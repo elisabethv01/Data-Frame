{
 "cells": [
  {
   "cell_type": "code",
   "execution_count": 1,
   "metadata": {},
   "outputs": [],
   "source": [
    "#Import packages\n",
    "import wget\n",
    "import requests\n",
    "from datetime import datetime\n",
    "from datetime import timedelta\n",
    "import os\n",
    "import csv\n",
    "import gzip\n",
    "import pandas as pd"
   ]
  },
  {
   "cell_type": "code",
   "execution_count": 2,
   "metadata": {},
   "outputs": [],
   "source": [
    "#Change to appropriate directory\n",
    "os.chdir(\"/Users/elisabethvicente/Desktop\") \n",
    "\n",
    "#Pull all the multilingual files\n",
    "url = \"https://blog.gdeltproject.org/a-new-dataset-for-exploring-the-global-multilingual-covid-19-online-news-narrative/\"\n",
    "#Grab the links\n",
    "page = requests.get(url)\n",
    "data = page.text\n"
   ]
  },
  {
   "cell_type": "code",
   "execution_count": 3,
   "metadata": {},
   "outputs": [],
   "source": [
    "#Make a list of the links\n",
    "links = data.splitlines()\n",
    "\n",
    "#Get yesterday's date\n",
    "yesterday = datetime.today() - timedelta(days = 1)\n",
    "\n",
    "yesterday = yesterday.strftime('%Y%m%d')\n",
    "\n",
    "#Evaluate yesterday's files\n",
    "yesterday_files = [x for x in links if yesterday in x]\n",
    "\n",
    "multilingual_yesterday_files = [x for x in yesterday_files if \"multilingualurls\" in x]\n",
    "\n",
    "multilingual_files = [x for x in links if \"multilingualurls\" in x]\n",
    "\n",
    "#Only pull yesterday's files\n",
    "multilingual_files = list(set(multilingual_yesterday_files))\n"
   ]
  },
  {
   "cell_type": "code",
   "execution_count": 4,
   "metadata": {},
   "outputs": [],
   "source": [
    "#def delete_old_files(del_dir):\n",
    "    # loop through all files in directory and delete them\n",
    "#    for each_file in os.listdir(del_dir):\n",
    "#        target_file = '{}\\{}'.format(del_dir, each_file)\n",
    "#        os.remove(target_file)\n",
    "#        print('deleting {}'.format(target_file))\n",
    "#    pass\n",
    "#missing_files = [\"http://data.gdeltproject.org/blog/2020-coronavirus-narrative/live_onlinenews/20200531-multilingualurls.csv.gz\",\n",
    "#\"http://data.gdeltproject.org/blog/2020-coronavirus-narrative/live_onlinenews/20200601-multilingualurls.csv.gz\",\n",
    "#]\n",
    "\n",
    "#Wget. download them into the directory\n",
    "for f in multilingual_files:\n",
    "    wget.download(f, \"/Users/elisabethvicente/Desktop\")\n"
   ]
  },
  {
   "cell_type": "code",
   "execution_count": 5,
   "metadata": {},
   "outputs": [],
   "source": [
    "#Grab the filenames\n",
    "file_names = [x[77:]for x in multilingual_files]\n",
    "#Depending on how far back you want to go, you can can get files from 2015\n",
    "#file_names.remove('20151130-20200329-multilingualurls.csv.gz')"
   ]
  },
  {
   "cell_type": "code",
   "execution_count": 6,
   "metadata": {},
   "outputs": [],
   "source": [
    "#Filter out any non-Indonesian files, append onto the old files\n",
    "for fname in file_names:\n",
    "    with gzip.open(fname, mode= 'rt') as infile:\n",
    "        reader = csv.reader(infile)\n",
    "        #Grab the appropriate rows, in this case, Indonesian news\n",
    "        filtered = filter(lambda row: 'tt' == row[3], reader)\n",
    "        csv.writer(open(r\"indonesia_news_filtered.csv\", 'a+'), delimiter=',').writerows(filtered)"
   ]
  },
  {
   "cell_type": "code",
   "execution_count": 7,
   "metadata": {},
   "outputs": [],
   "source": [
    "#Filter and clean dates and text\n",
    "df = pd.read_csv(\"indonesia_news_filtered.csv\", sep=',', names = [\"date\", \"text\", \"Image\", \"Language\", \"URL\"])\n",
    "#Drop duplicates if any exist\n",
    "df = df.drop_duplicates()\n",
    "#Clean the dates\n",
    "df[\"date\"]= pd.to_datetime(df[\"date\"], format='%Y%m%d%H%M%S', errors = 'coerce').dt.date\n",
    "df[\"text\"] = [str(x) for x in df[\"text\"]]\n",
    "#Constrain the date range\n",
    "startdate = pd.to_datetime(\"2020-03-24\").date()\n",
    "df = df[df[\"date\"] > startdate]\n",
    "#Output to csv\n",
    "df.to_csv(\"clean_indonesia_news.csv\", index=False)"
   ]
  },
  {
   "cell_type": "code",
   "execution_count": null,
   "metadata": {},
   "outputs": [],
   "source": []
  },
  {
   "cell_type": "code",
   "execution_count": null,
   "metadata": {},
   "outputs": [],
   "source": []
  }
 ],
 "metadata": {
  "kernelspec": {
   "display_name": "Python 3",
   "language": "python",
   "name": "python3"
  },
  "language_info": {
   "codemirror_mode": {
    "name": "ipython",
    "version": 3
   },
   "file_extension": ".py",
   "mimetype": "text/x-python",
   "name": "python",
   "nbconvert_exporter": "python",
   "pygments_lexer": "ipython3",
   "version": "3.7.4"
  }
 },
 "nbformat": 4,
 "nbformat_minor": 2
}
